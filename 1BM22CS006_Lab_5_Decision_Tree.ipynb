{
  "nbformat": 4,
  "nbformat_minor": 0,
  "metadata": {
    "colab": {
      "provenance": [],
      "authorship_tag": "ABX9TyOoyBkUbmG+m1/yvwvwtnYN",
      "include_colab_link": true
    },
    "kernelspec": {
      "name": "python3",
      "display_name": "Python 3"
    },
    "language_info": {
      "name": "python"
    }
  },
  "cells": [
    {
      "cell_type": "markdown",
      "metadata": {
        "id": "view-in-github",
        "colab_type": "text"
      },
      "source": [
        "<a href=\"https://colab.research.google.com/github/Abhii2404/6thSem-ML-Lab/blob/main/1BM22CS006_Lab_5_Decision_Tree.ipynb\" target=\"_parent\"><img src=\"https://colab.research.google.com/assets/colab-badge.svg\" alt=\"Open In Colab\"/></a>"
      ]
    },
    {
      "cell_type": "code",
      "execution_count": 1,
      "metadata": {
        "colab": {
          "base_uri": "https://localhost:8080/"
        },
        "id": "pmfO5qaRk-50",
        "outputId": "331f3708-1bbf-4581-f2a1-682c6f12ab4f"
      },
      "outputs": [
        {
          "output_type": "stream",
          "name": "stdout",
          "text": [
            "Decision Tree Classification for IRIS Dataset:\n",
            "Accuracy: 1.0\n",
            "Confusion Matrix:\n",
            " [[10  0  0]\n",
            " [ 0  9  0]\n",
            " [ 0  0 11]]\n",
            "Classification Report:\n",
            "               precision    recall  f1-score   support\n",
            "\n",
            "      setosa       1.00      1.00      1.00        10\n",
            "  versicolor       1.00      1.00      1.00         9\n",
            "   virginica       1.00      1.00      1.00        11\n",
            "\n",
            "    accuracy                           1.00        30\n",
            "   macro avg       1.00      1.00      1.00        30\n",
            "weighted avg       1.00      1.00      1.00        30\n",
            "\n",
            "\n",
            "Decision Tree Classification for Drug Dataset:\n",
            "Accuracy: 1.0\n",
            "Confusion Matrix:\n",
            " [[ 6  0  0  0  0]\n",
            " [ 0  3  0  0  0]\n",
            " [ 0  0  5  0  0]\n",
            " [ 0  0  0 11  0]\n",
            " [ 0  0  0  0 15]]\n",
            "Classification Report:\n",
            "               precision    recall  f1-score   support\n",
            "\n",
            "       drugA       1.00      1.00      1.00         6\n",
            "       drugB       1.00      1.00      1.00         3\n",
            "       drugC       1.00      1.00      1.00         5\n",
            "       drugX       1.00      1.00      1.00        11\n",
            "       drugY       1.00      1.00      1.00        15\n",
            "\n",
            "    accuracy                           1.00        40\n",
            "   macro avg       1.00      1.00      1.00        40\n",
            "weighted avg       1.00      1.00      1.00        40\n",
            "\n",
            "\n",
            "Decision Tree Regression for Petrol Consumption:\n",
            "Mean Absolute Error: 95.9\n",
            "Mean Squared Error: 17857.3\n",
            "Root Mean Squared Error: 133.63120892965085\n"
          ]
        }
      ],
      "source": [
        "import pandas as pd\n",
        "import numpy as np\n",
        "import matplotlib.pyplot as plt\n",
        "from sklearn.model_selection import train_test_split\n",
        "from sklearn.tree import DecisionTreeClassifier, DecisionTreeRegressor, plot_tree\n",
        "from sklearn.metrics import accuracy_score, confusion_matrix, classification_report, mean_absolute_error, mean_squared_error\n",
        "from sklearn.preprocessing import LabelEncoder\n",
        "\n",
        "iris = pd.read_csv(\"iris.csv\")\n",
        "drug = pd.read_csv(\"/content/drug.csv\")\n",
        "petrol = pd.read_csv(\"/content/petrol_consumption.csv\")\n",
        "\n",
        "X_iris = iris.iloc[:, :-1]\n",
        "y_iris = iris.iloc[:, -1]\n",
        "X_train, X_test, y_train, y_test = train_test_split(X_iris, y_iris, test_size=0.2, random_state=42)\n",
        "\n",
        "dtc = DecisionTreeClassifier()\n",
        "dtc.fit(X_train, y_train)\n",
        "y_pred = dtc.predict(X_test)\n",
        "\n",
        "print(\"Decision Tree Classification for IRIS Dataset:\")\n",
        "print(\"Accuracy:\", accuracy_score(y_test, y_pred))\n",
        "print(\"Confusion Matrix:\\n\", confusion_matrix(y_test, y_pred))\n",
        "print(\"Classification Report:\\n\", classification_report(y_test, y_pred))\n",
        "\n",
        "X_drug = drug.iloc[:, :-1]\n",
        "y_drug = drug.iloc[:, -1]\n",
        "\n",
        "le = LabelEncoder()\n",
        "\n",
        "for col in X_drug.select_dtypes(include=['object']).columns:\n",
        "    X_drug[col] = le.fit_transform(X_drug[col])\n",
        "\n",
        "X_train, X_test, y_train, y_test = train_test_split(X_drug, y_drug, test_size=0.2, random_state=42)\n",
        "\n",
        "dtc = DecisionTreeClassifier()\n",
        "dtc.fit(X_train, y_train)\n",
        "y_pred = dtc.predict(X_test)\n",
        "\n",
        "print(\"\\nDecision Tree Classification for Drug Dataset:\")\n",
        "print(\"Accuracy:\", accuracy_score(y_test, y_pred))\n",
        "print(\"Confusion Matrix:\\n\", confusion_matrix(y_test, y_pred))\n",
        "print(\"Classification Report:\\n\", classification_report(y_test, y_pred))\n",
        "\n",
        "X_petrol = petrol.iloc[:, :-1]\n",
        "y_petrol = petrol.iloc[:, -1]\n",
        "X_train, X_test, y_train, y_test = train_test_split(X_petrol, y_petrol, test_size=0.2, random_state=42)\n",
        "\n",
        "dtr = DecisionTreeRegressor()\n",
        "dtr.fit(X_train, y_train)\n",
        "y_pred = dtr.predict(X_test)\n",
        "\n",
        "print(\"\\nDecision Tree Regression for Petrol Consumption:\")\n",
        "print(\"Mean Absolute Error:\", mean_absolute_error(y_test, y_pred))\n",
        "print(\"Mean Squared Error:\", mean_squared_error(y_test, y_pred))\n",
        "print(\"Root Mean Squared Error:\", np.sqrt(mean_squared_error(y_test, y_pred)))"
      ]
    }
  ]
}
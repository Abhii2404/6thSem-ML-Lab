{
  "nbformat": 4,
  "nbformat_minor": 0,
  "metadata": {
    "colab": {
      "provenance": [],
      "authorship_tag": "ABX9TyOwh/BT/BWB0MXKwXriRd6w",
      "include_colab_link": true
    },
    "kernelspec": {
      "name": "python3",
      "display_name": "Python 3"
    },
    "language_info": {
      "name": "python"
    }
  },
  "cells": [
    {
      "cell_type": "markdown",
      "metadata": {
        "id": "view-in-github",
        "colab_type": "text"
      },
      "source": [
        "<a href=\"https://colab.research.google.com/github/Abhii2404/6thSem-ML-Lab/blob/main/1BM22CS006_Lab_4_Multiple_Regression_ipynb.ipynb\" target=\"_parent\"><img src=\"https://colab.research.google.com/assets/colab-badge.svg\" alt=\"Open In Colab\"/></a>"
      ]
    },
    {
      "cell_type": "code",
      "execution_count": 1,
      "metadata": {
        "colab": {
          "base_uri": "https://localhost:8080/"
        },
        "id": "RB7C5ZmLc3HG",
        "outputId": "e3d776b9-3db9-4f85-fe99-9c6c1badb6dd"
      },
      "outputs": [
        {
          "output_type": "stream",
          "name": "stdout",
          "text": [
            "  experience  test_score(out of 10)  interview_score(out of 10)  salary($)\n",
            "0        NaN                    8.0                           9      50000\n",
            "1        NaN                    8.0                           6      45000\n",
            "2       five                    6.0                           7      60000\n",
            "3        two                   10.0                          10      65000\n",
            "4      seven                    9.0                           6      70000\n",
            "Predicted salary for candidate 1 (2 yr experience, 9 test score, 6 interview score): 56562.50000000001\n",
            "Predicted salary for candidate 2 (12 yr experience, 10 test score, 10 interview score): 92562.49999999997\n",
            "   R&D Spend  Administration  Marketing Spend       State     Profit\n",
            "0  165349.20       136897.80        471784.10    New York  192261.83\n",
            "1  162597.70       151377.59        443898.53  California  191792.06\n",
            "2  153441.51       101145.55        407934.54     Florida  191050.39\n",
            "3  144372.41       118671.85        383199.62    New York  182901.99\n",
            "4  142107.34        91391.77        366168.42     Florida  166187.94\n",
            "Predicted profit for the given inputs (Florida State): 554900.68288852\n",
            "Mean Absolute Error for Salary Prediction: 687.5\n",
            "Mean Absolute Error for Profit Prediction: 1278.267417733337\n"
          ]
        },
        {
          "output_type": "stream",
          "name": "stderr",
          "text": [
            "<ipython-input-1-132ec57f776c>:18: FutureWarning: Downcasting behavior in `replace` is deprecated and will be removed in a future version. To retain the old behavior, explicitly call `result.infer_objects(copy=False)`. To opt-in to the future behavior, set `pd.set_option('future.no_silent_downcasting', True)`\n",
            "  hiring_data['experience'] = hiring_data['experience'].replace(experience_mapping)\n",
            "/usr/local/lib/python3.11/dist-packages/sklearn/utils/validation.py:2739: UserWarning: X does not have valid feature names, but LinearRegression was fitted with feature names\n",
            "  warnings.warn(\n",
            "/usr/local/lib/python3.11/dist-packages/sklearn/utils/validation.py:2739: UserWarning: X does not have valid feature names, but LinearRegression was fitted with feature names\n",
            "  warnings.warn(\n",
            "/usr/local/lib/python3.11/dist-packages/sklearn/utils/validation.py:2739: UserWarning: X does not have valid feature names, but LinearRegression was fitted with feature names\n",
            "  warnings.warn(\n"
          ]
        }
      ],
      "source": [
        "import pandas as pd\n",
        "import numpy as np\n",
        "from sklearn.model_selection import train_test_split\n",
        "from sklearn.linear_model import LinearRegression\n",
        "from sklearn.preprocessing import LabelEncoder\n",
        "from sklearn.metrics import mean_absolute_error\n",
        "import matplotlib.pyplot as plt\n",
        "\n",
        "hiring_data = pd.read_csv('hiring.csv')\n",
        "print(hiring_data.head())\n",
        "hiring_data = hiring_data.dropna()\n",
        "\n",
        "experience_mapping = {\n",
        "    'one': 1, 'two': 2, 'three': 3, 'four': 4, 'five': 5, 'six': 6, 'seven': 7, 'eight': 8,\n",
        "    'nine': 9, 'ten': 10, 'eleven': 11, 'twelve': 12, 'thirteen': 13, 'fourteen': 14,\n",
        "}\n",
        "\n",
        "hiring_data['experience'] = hiring_data['experience'].replace(experience_mapping)\n",
        "hiring_data['experience'] = pd.to_numeric(hiring_data['experience'], errors='coerce')\n",
        "\n",
        "if hiring_data['experience'].isnull().any():\n",
        "    print(\"Warning: There are still non-numeric values in the 'experience' column.\")\n",
        "    hiring_data = hiring_data.dropna(subset=['experience'])\n",
        "\n",
        "X_hiring = hiring_data[['experience', 'test_score(out of 10)', 'interview_score(out of 10)']]\n",
        "y_hiring = hiring_data['salary($)']\n",
        "\n",
        "X_train_hiring, X_test_hiring, y_train_hiring, y_test_hiring = train_test_split(X_hiring, y_hiring, test_size=0.2, random_state=42)\n",
        "\n",
        "regressor_hiring = LinearRegression()\n",
        "regressor_hiring.fit(X_train_hiring, y_train_hiring)\n",
        "\n",
        "candidate_1 = np.array([[2, 9, 6]])\n",
        "candidate_2 = np.array([[12, 10, 10]])\n",
        "\n",
        "salary_1 = regressor_hiring.predict(candidate_1)\n",
        "salary_2 = regressor_hiring.predict(candidate_2)\n",
        "\n",
        "print(f\"Predicted salary for candidate 1 (2 yr experience, 9 test score, 6 interview score): {salary_1[0]}\")\n",
        "print(f\"Predicted salary for candidate 2 (12 yr experience, 10 test score, 10 interview score): {salary_2[0]}\")\n",
        "\n",
        "companies_data = pd.read_csv('1000_Companies.csv')\n",
        "print(companies_data.head())\n",
        "companies_data = companies_data.dropna()\n",
        "\n",
        "label_encoder = LabelEncoder()\n",
        "companies_data['State'] = label_encoder.fit_transform(companies_data['State'])\n",
        "\n",
        "X_companies = companies_data[['R&D Spend', 'Administration', 'Marketing Spend', 'State']]\n",
        "y_companies = companies_data['Profit']\n",
        "\n",
        "X_train_companies, X_test_companies, y_train_companies, y_test_companies = train_test_split(X_companies, y_companies, test_size=0.2, random_state=42)\n",
        "\n",
        "regressor_companies = LinearRegression()\n",
        "regressor_companies.fit(X_train_companies, y_train_companies)\n",
        "\n",
        "input_data = np.array([[91694.48, 515841.3, 11931.24, label_encoder.transform(['Florida'])[0]]])\n",
        "predicted_profit = regressor_companies.predict(input_data)\n",
        "\n",
        "print(f\"Predicted profit for the given inputs (Florida State): {predicted_profit[0]}\")\n",
        "\n",
        "y_pred_hiring = regressor_hiring.predict(X_test_hiring)\n",
        "mae_hiring = mean_absolute_error(y_test_hiring, y_pred_hiring)\n",
        "print(f\"Mean Absolute Error for Salary Prediction: {mae_hiring}\")\n",
        "\n",
        "y_pred_companies = regressor_companies.predict(X_test_companies)\n",
        "mae_companies = mean_absolute_error(y_test_companies, y_pred_companies)\n",
        "print(f\"Mean Absolute Error for Profit Prediction: {mae_companies}\")\n"
      ]
    },
    {
      "cell_type": "code",
      "source": [],
      "metadata": {
        "id": "9vJRzA5_iiLW"
      },
      "execution_count": null,
      "outputs": []
    }
  ]
}